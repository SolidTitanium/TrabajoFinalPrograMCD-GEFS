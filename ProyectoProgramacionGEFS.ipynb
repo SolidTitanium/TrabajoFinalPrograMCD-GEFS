{
  "nbformat": 4,
  "nbformat_minor": 0,
  "metadata": {
    "colab": {
      "provenance": [],
      "authorship_tag": "ABX9TyP8MxXtt7gmWSdi7plGPwux",
      "include_colab_link": true
    },
    "kernelspec": {
      "name": "python3",
      "display_name": "Python 3"
    },
    "language_info": {
      "name": "python"
    }
  },
  "cells": [
    {
      "cell_type": "markdown",
      "metadata": {
        "id": "view-in-github",
        "colab_type": "text"
      },
      "source": [
        "<a href=\"https://colab.research.google.com/github/SolidTitanium/TrabajoFinalPrograMCD-GEFS/blob/main/ProyectoProgramacionGEFS.ipynb\" target=\"_parent\"><img src=\"https://colab.research.google.com/assets/colab-badge.svg\" alt=\"Open In Colab\"/></a>"
      ]
    },
    {
      "cell_type": "code",
      "execution_count": 2,
      "metadata": {
        "colab": {
          "base_uri": "https://localhost:8080/"
        },
        "id": "PSNQCPwMZuH4",
        "outputId": "10cf92c5-eda7-400a-8c07-b7fe47101759"
      },
      "outputs": [
        {
          "output_type": "stream",
          "name": "stdout",
          "text": [
            "TEST\n",
            "TEST0\n"
          ]
        }
      ],
      "source": [
        "print(\"TEST\")\n",
        "print(\"TEST0\")"
      ]
    }
  ]
}